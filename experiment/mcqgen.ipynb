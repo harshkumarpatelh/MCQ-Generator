{
 "cells": [
  {
   "cell_type": "code",
   "execution_count": 1,
   "metadata": {},
   "outputs": [],
   "source": [
    "import os"
   ]
  },
  {
   "cell_type": "code",
   "execution_count": 2,
   "metadata": {},
   "outputs": [],
   "source": [
    "from langchain.llms import OpenAI\n",
    "from langchain.chat_models import ChatOpenAI\n",
    "from langchain.prompts import PromptTemplate\n",
    "from langchain.chains import LLMChain\n",
    "from langchain.chains.sequential import SequentialChain\n",
    "from langchain.callbacks import get_openai_callback\n",
    "import json\n",
    "import pandas as pd\n",
    "import traceback\n",
    "from dotenv import load_dotenv   \n",
    "import PyPDF2"
   ]
  },
  {
   "cell_type": "code",
   "execution_count": 3,
   "metadata": {},
   "outputs": [
    {
     "data": {
      "text/plain": [
       "True"
      ]
     },
     "execution_count": 3,
     "metadata": {},
     "output_type": "execute_result"
    }
   ],
   "source": [
    "load_dotenv()"
   ]
  },
  {
   "cell_type": "code",
   "execution_count": 4,
   "metadata": {},
   "outputs": [],
   "source": [
    "open_key = os.getenv('openai_key')"
   ]
  },
  {
   "cell_type": "code",
   "execution_count": 5,
   "metadata": {},
   "outputs": [
    {
     "name": "stderr",
     "output_type": "stream",
     "text": [
      "f:\\ML\\NLP\\MCQ-Generator\\venv\\Lib\\site-packages\\langchain_core-0.1.52-py3.11.egg\\langchain_core\\_api\\deprecation.py:119: LangChainDeprecationWarning: The class `ChatOpenAI` was deprecated in LangChain 0.0.10 and will be removed in 0.3.0. An updated version of the class exists in the langchain-openai package and should be used instead. To use it run `pip install -U langchain-openai` and import as `from langchain_openai import ChatOpenAI`.\n",
      "  warn_deprecated(\n"
     ]
    }
   ],
   "source": [
    "llm = ChatOpenAI(openai_api_key = open_key, model_name='gpt-3.5-turbo',temperature =0.7)"
   ]
  },
  {
   "cell_type": "code",
   "execution_count": null,
   "metadata": {},
   "outputs": [],
   "source": [
    "llm"
   ]
  },
  {
   "cell_type": "code",
   "execution_count": 6,
   "metadata": {},
   "outputs": [],
   "source": [
    "template = \"\"\"\n",
    "Text:{text}\n",
    "You are an expert MCQ maker. Given the above text, it is your job to \\\n",
    "create a quiz  of {number} multiple choice questions for {subject} students in {tone} tone. \n",
    "Make sure the questions are not repeated and check all the questions to be conforming the text as well.\n",
    "Make sure to format your response like  RESPONSE_JSON below  and use it as a guide. \\\n",
    "Ensure to make {number} MCQs\n",
    "### RESPONSE_JSON\n",
    "{RESPONSE_JSON}\n",
    "\"\"\""
   ]
  },
  {
   "cell_type": "code",
   "execution_count": 7,
   "metadata": {},
   "outputs": [],
   "source": [
    "prompt_template = PromptTemplate(\n",
    "    input_variables=['text','number','subject','tone','RESPONSE_JSON'],\n",
    "    template=template\n",
    ")"
   ]
  },
  {
   "cell_type": "code",
   "execution_count": 8,
   "metadata": {},
   "outputs": [],
   "source": [
    "with open('F:/ML/NLP/MCQ-Generator/Response.json','r') as f:\n",
    "    RESPONSE_JSON = json.load(f)"
   ]
  },
  {
   "cell_type": "code",
   "execution_count": 9,
   "metadata": {},
   "outputs": [
    {
     "data": {
      "text/plain": [
       "{'1': {'no': '1',\n",
       "  'mcq': 'multiple choice questions',\n",
       "  'options': {'a': 'choice here',\n",
       "   'b': 'choice here',\n",
       "   'c': 'choice here',\n",
       "   'd': 'choice here'},\n",
       "  'correct': 'correct answer'},\n",
       " '2': {'no': '2',\n",
       "  'mcq': 'multiple choice questions',\n",
       "  'options': {'a': 'choice here',\n",
       "   'b': 'choice here',\n",
       "   'c': 'choice here',\n",
       "   'd': 'choice here'},\n",
       "  'correct': 'correct answer'},\n",
       " '3': {'no': '3',\n",
       "  'mcq': 'multiple choice questions',\n",
       "  'options': {'a': 'choice here',\n",
       "   'b': 'choice here',\n",
       "   'c': 'choice here',\n",
       "   'd': 'choice here'},\n",
       "  'correct': 'correct answer'}}"
      ]
     },
     "execution_count": 9,
     "metadata": {},
     "output_type": "execute_result"
    }
   ],
   "source": [
    "RESPONSE_JSON"
   ]
  },
  {
   "cell_type": "code",
   "execution_count": 10,
   "metadata": {},
   "outputs": [
    {
     "name": "stderr",
     "output_type": "stream",
     "text": [
      "f:\\ML\\NLP\\MCQ-Generator\\venv\\Lib\\site-packages\\langchain_core-0.1.52-py3.11.egg\\langchain_core\\_api\\deprecation.py:119: LangChainDeprecationWarning: The class `LLMChain` was deprecated in LangChain 0.1.17 and will be removed in 0.3.0. Use RunnableSequence, e.g., `prompt | llm` instead.\n",
      "  warn_deprecated(\n"
     ]
    }
   ],
   "source": [
    "quiz_chain = LLMChain(llm =llm, prompt=prompt_template, output_key = 'quiz',verbose=True)"
   ]
  },
  {
   "cell_type": "code",
   "execution_count": 11,
   "metadata": {},
   "outputs": [],
   "source": [
    "template2=\"\"\"\n",
    "You are an expert english grammarian and writer. Given a Multiple Choice Quiz for {subject} students.\\\n",
    "You need to evaluate the complexity of the question and give a complete analysis of the quiz. Only use at max 50 words for complexity analysis. \n",
    "if the quiz is not at per with the cognitive and analytical abilities of the students,\\\n",
    "update the quiz questions which needs to be changed and change the tone such that it perfectly fits the student abilities\n",
    "Quiz_MCQs:\n",
    "{quiz}\n",
    "\n",
    "Check from an expert English Writer of the above quiz:\n",
    "\"\"\""
   ]
  },
  {
   "cell_type": "code",
   "execution_count": 12,
   "metadata": {},
   "outputs": [],
   "source": [
    "evalution_prompt_template = PromptTemplate(\n",
    "    input_variables=['subject','quiz'],\n",
    "    template=template2\n",
    ")"
   ]
  },
  {
   "cell_type": "code",
   "execution_count": 13,
   "metadata": {},
   "outputs": [],
   "source": [
    "review_chain = LLMChain(llm =llm, prompt=evalution_prompt_template, output_key = 'review',verbose=True)"
   ]
  },
  {
   "cell_type": "code",
   "execution_count": 14,
   "metadata": {},
   "outputs": [],
   "source": [
    "generate_evaluate_chain = SequentialChain(chains=[quiz_chain,review_chain],input_variables=['text','number','subject','tone','RESPONSE_JSON'],output_variables=['quiz','review'])"
   ]
  },
  {
   "cell_type": "code",
   "execution_count": 15,
   "metadata": {},
   "outputs": [],
   "source": [
    "# paragraph for MCQ generation\n",
    "with open('F:/ML/NLP/MCQ-Generator/data.txt') as f:\n",
    "    text = f.read()"
   ]
  },
  {
   "cell_type": "code",
   "execution_count": 16,
   "metadata": {},
   "outputs": [
    {
     "data": {
      "text/plain": [
       "'Cricket is a bat-and-ball game that is played between two teams of eleven players on a field at the centre of which is a 22-yard (20-metre) pitch with a wicket at each end, each comprising two bails balanced on three stumps. Two players from the batting team (the striker and nonstriker) stand in front of either wicket, with one player from the fielding team (the bowler) bowling the ball towards the striker\\'s wicket from the opposite end of the pitch. The striker\\'s goal is to hit the bowled ball and then switch places with the nonstriker, with the batting team scoring one run for each exchange. Runs are also scored when the ball reaches or crosses the boundary of the field or when the ball is bowled illegally.\\n\\nThe fielding team tries to prevent runs from being scored by dismissing batters (so they are \"out\"). Means of dismissal include being bowled, when the ball hits the striker\\'s wicket and dislodges the bails, and by the fielding side either catching the ball after it is hit by the bat, but before it hits the ground, or hitting a wicket with the ball before a batter can cross the crease in front of the wicket. When ten batters have been dismissed, the innings ends and the teams swap roles. Forms of cricket range from Twenty20 (also known as T20), with each team batting for a single innings of 20 overs (each \"over\" being a set of 6 fair opportunities for the batting team to score) and the game generally lasting three to four hours, to Test matches played over five days.\\n\\nTraditionally cricketers play in all-white kit, but in limited overs cricket they wear club or team colours. In addition to the basic kit, some players wear protective gear to prevent injury caused by the ball, which is a hard, solid spheroid made of compressed leather with a slightly raised sewn seam enclosing a cork core layered with tightly wound string.\\n\\nThe earliest known definite reference to cricket is to it being played in South East England in the mid-16th century. It spread globally with the expansion of the British Empire, with the first international matches in the second half of the 19th century. The game\\'s governing body is the International Cricket Council (ICC), which has over 100 members, twelve of which are full members who play Test matches. The game\\'s rules, the Laws of Cricket, are maintained by Marylebone Cricket Club (MCC) in London. The sport is followed primarily in South Asia, Australia, New Zealand, the United Kingdom, Southern Africa and the West Indies.[1]'"
      ]
     },
     "execution_count": 16,
     "metadata": {},
     "output_type": "execute_result"
    }
   ],
   "source": [
    "text"
   ]
  },
  {
   "cell_type": "code",
   "execution_count": 17,
   "metadata": {},
   "outputs": [],
   "source": [
    "number = 5\n",
    "subject = 'Sport'\n",
    "tone = 'Simple'"
   ]
  },
  {
   "cell_type": "code",
   "execution_count": 40,
   "metadata": {},
   "outputs": [],
   "source": [
    "import json\n",
    "RESPONSE_JSON = json.dumps(RESPONSE_JSON)"
   ]
  },
  {
   "cell_type": "code",
   "execution_count": 41,
   "metadata": {},
   "outputs": [
    {
     "data": {
      "text/plain": [
       "'{\"1\": {\"no\": \"1\", \"mcq\": \"multiple choice questions\", \"options\": {\"a\": \"choice here\", \"b\": \"choice here\", \"c\": \"choice here\", \"d\": \"choice here\"}, \"correct\": \"correct answer\"}, \"2\": {\"no\": \"2\", \"mcq\": \"multiple choice questions\", \"options\": {\"a\": \"choice here\", \"b\": \"choice here\", \"c\": \"choice here\", \"d\": \"choice here\"}, \"correct\": \"correct answer\"}, \"3\": {\"no\": \"3\", \"mcq\": \"multiple choice questions\", \"options\": {\"a\": \"choice here\", \"b\": \"choice here\", \"c\": \"choice here\", \"d\": \"choice here\"}, \"correct\": \"correct answer\"}}'"
      ]
     },
     "execution_count": 41,
     "metadata": {},
     "output_type": "execute_result"
    }
   ],
   "source": [
    "RESPONSE_JSON"
   ]
  },
  {
   "cell_type": "code",
   "execution_count": 42,
   "metadata": {},
   "outputs": [
    {
     "name": "stdout",
     "output_type": "stream",
     "text": [
      "\n",
      "\n",
      "\u001b[1m> Entering new LLMChain chain...\u001b[0m\n",
      "Prompt after formatting:\n",
      "\u001b[32;1m\u001b[1;3m\n",
      "Text:Cricket is a bat-and-ball game that is played between two teams of eleven players on a field at the centre of which is a 22-yard (20-metre) pitch with a wicket at each end, each comprising two bails balanced on three stumps. Two players from the batting team (the striker and nonstriker) stand in front of either wicket, with one player from the fielding team (the bowler) bowling the ball towards the striker's wicket from the opposite end of the pitch. The striker's goal is to hit the bowled ball and then switch places with the nonstriker, with the batting team scoring one run for each exchange. Runs are also scored when the ball reaches or crosses the boundary of the field or when the ball is bowled illegally.\n",
      "\n",
      "The fielding team tries to prevent runs from being scored by dismissing batters (so they are \"out\"). Means of dismissal include being bowled, when the ball hits the striker's wicket and dislodges the bails, and by the fielding side either catching the ball after it is hit by the bat, but before it hits the ground, or hitting a wicket with the ball before a batter can cross the crease in front of the wicket. When ten batters have been dismissed, the innings ends and the teams swap roles. Forms of cricket range from Twenty20 (also known as T20), with each team batting for a single innings of 20 overs (each \"over\" being a set of 6 fair opportunities for the batting team to score) and the game generally lasting three to four hours, to Test matches played over five days.\n",
      "\n",
      "Traditionally cricketers play in all-white kit, but in limited overs cricket they wear club or team colours. In addition to the basic kit, some players wear protective gear to prevent injury caused by the ball, which is a hard, solid spheroid made of compressed leather with a slightly raised sewn seam enclosing a cork core layered with tightly wound string.\n",
      "\n",
      "The earliest known definite reference to cricket is to it being played in South East England in the mid-16th century. It spread globally with the expansion of the British Empire, with the first international matches in the second half of the 19th century. The game's governing body is the International Cricket Council (ICC), which has over 100 members, twelve of which are full members who play Test matches. The game's rules, the Laws of Cricket, are maintained by Marylebone Cricket Club (MCC) in London. The sport is followed primarily in South Asia, Australia, New Zealand, the United Kingdom, Southern Africa and the West Indies.[1]\n",
      "You are an expert MCQ maker. Given the above text, it is your job to create a quiz  of 5 multiple choice questions for Sport students in Simple tone. \n",
      "Make sure the questions are not repeated and check all the questions to be conforming the text as well.\n",
      "Make sure to format your response like  RESPONSE_JSON below  and use it as a guide. Ensure to make 5 MCQs\n",
      "### RESPONSE_JSON\n",
      "{\"1\": {\"no\": \"1\", \"mcq\": \"multiple choice questions\", \"options\": {\"a\": \"choice here\", \"b\": \"choice here\", \"c\": \"choice here\", \"d\": \"choice here\"}, \"correct\": \"correct answer\"}, \"2\": {\"no\": \"2\", \"mcq\": \"multiple choice questions\", \"options\": {\"a\": \"choice here\", \"b\": \"choice here\", \"c\": \"choice here\", \"d\": \"choice here\"}, \"correct\": \"correct answer\"}, \"3\": {\"no\": \"3\", \"mcq\": \"multiple choice questions\", \"options\": {\"a\": \"choice here\", \"b\": \"choice here\", \"c\": \"choice here\", \"d\": \"choice here\"}, \"correct\": \"correct answer\"}}\n",
      "\u001b[0m\n",
      "\n",
      "\u001b[1m> Finished chain.\u001b[0m\n",
      "\n",
      "\n",
      "\u001b[1m> Entering new LLMChain chain...\u001b[0m\n",
      "Prompt after formatting:\n",
      "\u001b[32;1m\u001b[1;3m\n",
      "You are an expert english grammarian and writer. Given a Multiple Choice Quiz for Sport students.You need to evaluate the complexity of the question and give a complete analysis of the quiz. Only use at max 50 words for complexity analysis. \n",
      "if the quiz is not at per with the cognitive and analytical abilities of the students,update the quiz questions which needs to be changed and change the tone such that it perfectly fits the student abilities\n",
      "Quiz_MCQs:\n",
      "\n",
      "{\n",
      "  \"1\": {\n",
      "    \"no\": \"1\",\n",
      "    \"mcq\": \"What is the main objective of the fielding team in cricket?\",\n",
      "    \"options\": {\n",
      "      \"a\": \"To score runs\",\n",
      "      \"b\": \"To dismiss batters\",\n",
      "      \"c\": \"To hit boundaries\",\n",
      "      \"d\": \"To bowl the ball\"\n",
      "    },\n",
      "    \"correct\": \"b\"\n",
      "  },\n",
      "  \"2\": {\n",
      "    \"no\": \"2\",\n",
      "    \"mcq\": \"What is the primary equipment used by batters to protect themselves from injury?\",\n",
      "    \"options\": {\n",
      "      \"a\": \"Helmet\",\n",
      "      \"b\": \"Gloves\",\n",
      "      \"c\": \"Pads\",\n",
      "      \"d\": \"All of the above\"\n",
      "    },\n",
      "    \"correct\": \"d\"\n",
      "  },\n",
      "  \"3\": {\n",
      "    \"no\": \"3\",\n",
      "    \"mcq\": \"Which organization is responsible for maintaining the Laws of Cricket?\",\n",
      "    \"options\": {\n",
      "      \"a\": \"International Cricket Council (ICC)\",\n",
      "      \"b\": \"Marylebone Cricket Club (MCC)\",\n",
      "      \"c\": \"Federation of International Cricket Associations (FICA)\",\n",
      "      \"d\": \"World Cricket Board (WCB)\"\n",
      "    },\n",
      "    \"correct\": \"b\"\n",
      "  },\n",
      "  \"4\": {\n",
      "    \"no\": \"4\",\n",
      "    \"mcq\": \"In which region is cricket primarily followed?\",\n",
      "    \"options\": {\n",
      "      \"a\": \"North America\",\n",
      "      \"b\": \"Europe\",\n",
      "      \"c\": \"South Asia\",\n",
      "      \"d\": \"South America\"\n",
      "    },\n",
      "    \"correct\": \"c\"\n",
      "  },\n",
      "  \"5\": {\n",
      "    \"no\": \"5\",\n",
      "    \"mcq\": \"What is the name of the game's governing body?\",\n",
      "    \"options\": {\n",
      "      \"a\": \"FIFA\",\n",
      "      \"b\": \"ICC\",\n",
      "      \"c\": \"NBA\",\n",
      "      \"d\": \"NFL\"\n",
      "    },\n",
      "    \"correct\": \"b\"\n",
      "  }\n",
      "}\n",
      "\n",
      "Check from an expert English Writer of the above quiz:\n",
      "\u001b[0m\n",
      "\n",
      "\u001b[1m> Finished chain.\u001b[0m\n"
     ]
    }
   ],
   "source": [
    "\n",
    "with get_openai_callback() as cb:\n",
    "    response = generate_evaluate_chain(\n",
    "        {\n",
    "        'text':text,\n",
    "        'number':number,\n",
    "        'subject':subject,\n",
    "        'tone':tone,\n",
    "        'RESPONSE_JSON':RESPONSE_JSON\n",
    "        }\n",
    "    )"
   ]
  },
  {
   "cell_type": "code",
   "execution_count": 43,
   "metadata": {},
   "outputs": [
    {
     "name": "stdout",
     "output_type": "stream",
     "text": [
      "Total Tokens: 1797\n",
      "Prompt Tokens: 1339\n",
      "Completion Tokens: 458\n",
      "Total Cost (USD): $0.0029245\n"
     ]
    }
   ],
   "source": [
    "print(f\"Total Tokens: {cb.total_tokens}\")\n",
    "print(f\"Prompt Tokens: {cb.prompt_tokens}\")\n",
    "print(f\"Completion Tokens: {cb.completion_tokens}\")\n",
    "print(f\"Total Cost (USD): ${cb.total_cost}\")"
   ]
  },
  {
   "cell_type": "code",
   "execution_count": 44,
   "metadata": {},
   "outputs": [
    {
     "data": {
      "text/plain": [
       "'\\n{\\n  \"1\": {\\n    \"no\": \"1\",\\n    \"mcq\": \"What is the main objective of the fielding team in cricket?\",\\n    \"options\": {\\n      \"a\": \"To score runs\",\\n      \"b\": \"To dismiss batters\",\\n      \"c\": \"To hit boundaries\",\\n      \"d\": \"To bowl the ball\"\\n    },\\n    \"correct\": \"b\"\\n  },\\n  \"2\": {\\n    \"no\": \"2\",\\n    \"mcq\": \"What is the primary equipment used by batters to protect themselves from injury?\",\\n    \"options\": {\\n      \"a\": \"Helmet\",\\n      \"b\": \"Gloves\",\\n      \"c\": \"Pads\",\\n      \"d\": \"All of the above\"\\n    },\\n    \"correct\": \"d\"\\n  },\\n  \"3\": {\\n    \"no\": \"3\",\\n    \"mcq\": \"Which organization is responsible for maintaining the Laws of Cricket?\",\\n    \"options\": {\\n      \"a\": \"International Cricket Council (ICC)\",\\n      \"b\": \"Marylebone Cricket Club (MCC)\",\\n      \"c\": \"Federation of International Cricket Associations (FICA)\",\\n      \"d\": \"World Cricket Board (WCB)\"\\n    },\\n    \"correct\": \"b\"\\n  },\\n  \"4\": {\\n    \"no\": \"4\",\\n    \"mcq\": \"In which region is cricket primarily followed?\",\\n    \"options\": {\\n      \"a\": \"North America\",\\n      \"b\": \"Europe\",\\n      \"c\": \"South Asia\",\\n      \"d\": \"South America\"\\n    },\\n    \"correct\": \"c\"\\n  },\\n  \"5\": {\\n    \"no\": \"5\",\\n    \"mcq\": \"What is the name of the game\\'s governing body?\",\\n    \"options\": {\\n      \"a\": \"FIFA\",\\n      \"b\": \"ICC\",\\n      \"c\": \"NBA\",\\n      \"d\": \"NFL\"\\n    },\\n    \"correct\": \"b\"\\n  }\\n}'"
      ]
     },
     "execution_count": 44,
     "metadata": {},
     "output_type": "execute_result"
    }
   ],
   "source": [
    "quiz = response.get('quiz')\n",
    "quiz"
   ]
  },
  {
   "cell_type": "code",
   "execution_count": 45,
   "metadata": {},
   "outputs": [
    {
     "data": {
      "text/plain": [
       "str"
      ]
     },
     "execution_count": 45,
     "metadata": {},
     "output_type": "execute_result"
    }
   ],
   "source": [
    "type(quiz)"
   ]
  },
  {
   "cell_type": "code",
   "execution_count": 47,
   "metadata": {},
   "outputs": [
    {
     "data": {
      "text/plain": [
       "{'1': {'no': '1',\n",
       "  'mcq': 'What is the main objective of the fielding team in cricket?',\n",
       "  'options': {'a': 'To score runs',\n",
       "   'b': 'To dismiss batters',\n",
       "   'c': 'To hit boundaries',\n",
       "   'd': 'To bowl the ball'},\n",
       "  'correct': 'b'},\n",
       " '2': {'no': '2',\n",
       "  'mcq': 'What is the primary equipment used by batters to protect themselves from injury?',\n",
       "  'options': {'a': 'Helmet',\n",
       "   'b': 'Gloves',\n",
       "   'c': 'Pads',\n",
       "   'd': 'All of the above'},\n",
       "  'correct': 'd'},\n",
       " '3': {'no': '3',\n",
       "  'mcq': 'Which organization is responsible for maintaining the Laws of Cricket?',\n",
       "  'options': {'a': 'International Cricket Council (ICC)',\n",
       "   'b': 'Marylebone Cricket Club (MCC)',\n",
       "   'c': 'Federation of International Cricket Associations (FICA)',\n",
       "   'd': 'World Cricket Board (WCB)'},\n",
       "  'correct': 'b'},\n",
       " '4': {'no': '4',\n",
       "  'mcq': 'In which region is cricket primarily followed?',\n",
       "  'options': {'a': 'North America',\n",
       "   'b': 'Europe',\n",
       "   'c': 'South Asia',\n",
       "   'd': 'South America'},\n",
       "  'correct': 'c'},\n",
       " '5': {'no': '5',\n",
       "  'mcq': \"What is the name of the game's governing body?\",\n",
       "  'options': {'a': 'FIFA', 'b': 'ICC', 'c': 'NBA', 'd': 'NFL'},\n",
       "  'correct': 'b'}}"
      ]
     },
     "execution_count": 47,
     "metadata": {},
     "output_type": "execute_result"
    }
   ],
   "source": [
    "quiz = json.loads(quiz)\n",
    "quiz"
   ]
  },
  {
   "cell_type": "code",
   "execution_count": 48,
   "metadata": {},
   "outputs": [
    {
     "data": {
      "text/plain": [
       "dict"
      ]
     },
     "execution_count": 48,
     "metadata": {},
     "output_type": "execute_result"
    }
   ],
   "source": [
    "type(quiz)"
   ]
  },
  {
   "cell_type": "code",
   "execution_count": 60,
   "metadata": {},
   "outputs": [
    {
     "data": {
      "text/plain": [
       "dict_items"
      ]
     },
     "execution_count": 60,
     "metadata": {},
     "output_type": "execute_result"
    }
   ],
   "source": [
    "type(quiz.items())"
   ]
  },
  {
   "cell_type": "code",
   "execution_count": 63,
   "metadata": {},
   "outputs": [
    {
     "name": "stdout",
     "output_type": "stream",
     "text": [
      "{'no': '1', 'mcq': 'What is the main objective of the fielding team in cricket?', 'options': {'a': 'To score runs', 'b': 'To dismiss batters', 'c': 'To hit boundaries', 'd': 'To bowl the ball'}, 'correct': 'b'}\n",
      "{'no': '2', 'mcq': 'What is the primary equipment used by batters to protect themselves from injury?', 'options': {'a': 'Helmet', 'b': 'Gloves', 'c': 'Pads', 'd': 'All of the above'}, 'correct': 'd'}\n",
      "{'no': '3', 'mcq': 'Which organization is responsible for maintaining the Laws of Cricket?', 'options': {'a': 'International Cricket Council (ICC)', 'b': 'Marylebone Cricket Club (MCC)', 'c': 'Federation of International Cricket Associations (FICA)', 'd': 'World Cricket Board (WCB)'}, 'correct': 'b'}\n",
      "{'no': '4', 'mcq': 'In which region is cricket primarily followed?', 'options': {'a': 'North America', 'b': 'Europe', 'c': 'South Asia', 'd': 'South America'}, 'correct': 'c'}\n",
      "{'no': '5', 'mcq': \"What is the name of the game's governing body?\", 'options': {'a': 'FIFA', 'b': 'ICC', 'c': 'NBA', 'd': 'NFL'}, 'correct': 'b'}\n"
     ]
    }
   ],
   "source": [
    "\n",
    "for key,value in quiz.items():\n",
    "    print(value)"
   ]
  },
  {
   "cell_type": "code",
   "execution_count": 68,
   "metadata": {},
   "outputs": [],
   "source": [
    "quiz_table = []\n",
    "\n",
    "for key,value in quiz.items():\n",
    "    QNO = value['no']\n",
    "    mcq = value['mcq']\n",
    "    options = \" | \".join(\n",
    "        #list comprehension\n",
    "        [\n",
    "            f\"{option}:{option_value}\"\n",
    "            for option , option_value in value['options'].items()\n",
    "        ]\n",
    "    )\n",
    "\n",
    "    correct = value['correct']\n",
    "    quiz_table.append({\"Q.NO.\":QNO,\"MCQ\":mcq,\"Choices\":options,\"Correct\":correct})"
   ]
  },
  {
   "cell_type": "code",
   "execution_count": 69,
   "metadata": {},
   "outputs": [
    {
     "data": {
      "text/plain": [
       "[{'Q.NO.': '1',\n",
       "  'MCQ': 'What is the main objective of the fielding team in cricket?',\n",
       "  'Choices': 'a:To score runs | b:To dismiss batters | c:To hit boundaries | d:To bowl the ball',\n",
       "  'Correct': 'b'},\n",
       " {'Q.NO.': '2',\n",
       "  'MCQ': 'What is the primary equipment used by batters to protect themselves from injury?',\n",
       "  'Choices': 'a:Helmet | b:Gloves | c:Pads | d:All of the above',\n",
       "  'Correct': 'd'},\n",
       " {'Q.NO.': '3',\n",
       "  'MCQ': 'Which organization is responsible for maintaining the Laws of Cricket?',\n",
       "  'Choices': 'a:International Cricket Council (ICC) | b:Marylebone Cricket Club (MCC) | c:Federation of International Cricket Associations (FICA) | d:World Cricket Board (WCB)',\n",
       "  'Correct': 'b'},\n",
       " {'Q.NO.': '4',\n",
       "  'MCQ': 'In which region is cricket primarily followed?',\n",
       "  'Choices': 'a:North America | b:Europe | c:South Asia | d:South America',\n",
       "  'Correct': 'c'},\n",
       " {'Q.NO.': '5',\n",
       "  'MCQ': \"What is the name of the game's governing body?\",\n",
       "  'Choices': 'a:FIFA | b:ICC | c:NBA | d:NFL',\n",
       "  'Correct': 'b'}]"
      ]
     },
     "execution_count": 69,
     "metadata": {},
     "output_type": "execute_result"
    }
   ],
   "source": [
    "quiz_table"
   ]
  },
  {
   "cell_type": "code",
   "execution_count": 70,
   "metadata": {},
   "outputs": [
    {
     "data": {
      "text/plain": [
       "list"
      ]
     },
     "execution_count": 70,
     "metadata": {},
     "output_type": "execute_result"
    }
   ],
   "source": [
    "type(quiz_table)"
   ]
  },
  {
   "cell_type": "code",
   "execution_count": 72,
   "metadata": {},
   "outputs": [
    {
     "data": {
      "text/html": [
       "<div>\n",
       "<style scoped>\n",
       "    .dataframe tbody tr th:only-of-type {\n",
       "        vertical-align: middle;\n",
       "    }\n",
       "\n",
       "    .dataframe tbody tr th {\n",
       "        vertical-align: top;\n",
       "    }\n",
       "\n",
       "    .dataframe thead th {\n",
       "        text-align: right;\n",
       "    }\n",
       "</style>\n",
       "<table border=\"1\" class=\"dataframe\">\n",
       "  <thead>\n",
       "    <tr style=\"text-align: right;\">\n",
       "      <th></th>\n",
       "      <th>Q.NO.</th>\n",
       "      <th>MCQ</th>\n",
       "      <th>Choices</th>\n",
       "      <th>Correct</th>\n",
       "    </tr>\n",
       "  </thead>\n",
       "  <tbody>\n",
       "    <tr>\n",
       "      <th>0</th>\n",
       "      <td>1</td>\n",
       "      <td>What is the main objective of the fielding tea...</td>\n",
       "      <td>a:To score runs | b:To dismiss batters | c:To ...</td>\n",
       "      <td>b</td>\n",
       "    </tr>\n",
       "    <tr>\n",
       "      <th>1</th>\n",
       "      <td>2</td>\n",
       "      <td>What is the primary equipment used by batters ...</td>\n",
       "      <td>a:Helmet | b:Gloves | c:Pads | d:All of the above</td>\n",
       "      <td>d</td>\n",
       "    </tr>\n",
       "    <tr>\n",
       "      <th>2</th>\n",
       "      <td>3</td>\n",
       "      <td>Which organization is responsible for maintain...</td>\n",
       "      <td>a:International Cricket Council (ICC) | b:Mary...</td>\n",
       "      <td>b</td>\n",
       "    </tr>\n",
       "    <tr>\n",
       "      <th>3</th>\n",
       "      <td>4</td>\n",
       "      <td>In which region is cricket primarily followed?</td>\n",
       "      <td>a:North America | b:Europe | c:South Asia | d:...</td>\n",
       "      <td>c</td>\n",
       "    </tr>\n",
       "    <tr>\n",
       "      <th>4</th>\n",
       "      <td>5</td>\n",
       "      <td>What is the name of the game's governing body?</td>\n",
       "      <td>a:FIFA | b:ICC | c:NBA | d:NFL</td>\n",
       "      <td>b</td>\n",
       "    </tr>\n",
       "  </tbody>\n",
       "</table>\n",
       "</div>"
      ],
      "text/plain": [
       "  Q.NO.                                                MCQ  \\\n",
       "0     1  What is the main objective of the fielding tea...   \n",
       "1     2  What is the primary equipment used by batters ...   \n",
       "2     3  Which organization is responsible for maintain...   \n",
       "3     4     In which region is cricket primarily followed?   \n",
       "4     5     What is the name of the game's governing body?   \n",
       "\n",
       "                                             Choices Correct  \n",
       "0  a:To score runs | b:To dismiss batters | c:To ...       b  \n",
       "1  a:Helmet | b:Gloves | c:Pads | d:All of the above       d  \n",
       "2  a:International Cricket Council (ICC) | b:Mary...       b  \n",
       "3  a:North America | b:Europe | c:South Asia | d:...       c  \n",
       "4                     a:FIFA | b:ICC | c:NBA | d:NFL       b  "
      ]
     },
     "execution_count": 72,
     "metadata": {},
     "output_type": "execute_result"
    }
   ],
   "source": [
    "df = pd.DataFrame(quiz_table)\n",
    "df"
   ]
  },
  {
   "cell_type": "code",
   "execution_count": 73,
   "metadata": {},
   "outputs": [],
   "source": [
    "df.to_csv('quiz_cricket.csv',index = False)"
   ]
  },
  {
   "cell_type": "code",
   "execution_count": 1,
   "metadata": {},
   "outputs": [],
   "source": [
    "\n",
    "log_file = \"{datetime.now().strtime('%m_%d_%Y_%H_%M_%S')}.log\"\n"
   ]
  },
  {
   "cell_type": "code",
   "execution_count": 2,
   "metadata": {},
   "outputs": [
    {
     "data": {
      "text/plain": [
       "\"{datetime.now().strtime('%m_%d_%Y_%H_%M_%S')}.log\""
      ]
     },
     "execution_count": 2,
     "metadata": {},
     "output_type": "execute_result"
    }
   ],
   "source": [
    "log_file"
   ]
  },
  {
   "cell_type": "code",
   "execution_count": 13,
   "metadata": {},
   "outputs": [
    {
     "data": {
      "text/plain": [
       "'11/05/2024 10:53:06'"
      ]
     },
     "execution_count": 13,
     "metadata": {},
     "output_type": "execute_result"
    }
   ],
   "source": [
    "from datetime import datetime\n",
    "datetime.now().strftime(\"%d/%m/%Y %H:%M:%S\")"
   ]
  },
  {
   "cell_type": "code",
   "execution_count": 14,
   "metadata": {},
   "outputs": [],
   "source": [
    "datetimeFormat = '%d/%m/%Y %H:%M:%S'\n",
    "log_file = \"{datetime.now().strftime({datetimeFormat})}.log\""
   ]
  },
  {
   "cell_type": "code",
   "execution_count": 17,
   "metadata": {},
   "outputs": [
    {
     "data": {
      "text/plain": [
       "'11/05/2024 10:59:39'"
      ]
     },
     "execution_count": 17,
     "metadata": {},
     "output_type": "execute_result"
    }
   ],
   "source": [
    "datetime.now().strftime(datetimeFormat)"
   ]
  },
  {
   "cell_type": "code",
   "execution_count": null,
   "metadata": {},
   "outputs": [],
   "source": []
  },
  {
   "cell_type": "code",
   "execution_count": null,
   "metadata": {},
   "outputs": [],
   "source": []
  }
 ],
 "metadata": {
  "kernelspec": {
   "display_name": "Python 3",
   "language": "python",
   "name": "python3"
  },
  "language_info": {
   "codemirror_mode": {
    "name": "ipython",
    "version": 3
   },
   "file_extension": ".py",
   "mimetype": "text/x-python",
   "name": "python",
   "nbconvert_exporter": "python",
   "pygments_lexer": "ipython3",
   "version": "3.11.9"
  }
 },
 "nbformat": 4,
 "nbformat_minor": 2
}
