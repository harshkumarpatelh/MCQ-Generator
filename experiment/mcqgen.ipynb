{
 "cells": [
  {
   "cell_type": "code",
   "execution_count": 33,
   "metadata": {},
   "outputs": [],
   "source": [
    "import os"
   ]
  },
  {
   "cell_type": "code",
   "execution_count": 34,
   "metadata": {},
   "outputs": [],
   "source": [
    "from langchain.llms import OpenAI\n",
    "from langchain.chat_models import ChatOpenAI\n",
    "from langchain.prompts import PromptTemplate\n",
    "from langchain.chains import LLMChain\n",
    "from langchain.chains.sequential import SequentialChain\n",
    "from langchain.callbacks import get_openai_callback\n",
    "import json\n",
    "import pandas as pd\n",
    "import traceback\n",
    "from dotenv import load_dotenv   \n"
   ]
  },
  {
   "cell_type": "code",
   "execution_count": 35,
   "metadata": {},
   "outputs": [
    {
     "data": {
      "text/plain": [
       "True"
      ]
     },
     "execution_count": 35,
     "metadata": {},
     "output_type": "execute_result"
    }
   ],
   "source": [
    "load_dotenv()"
   ]
  },
  {
   "cell_type": "code",
   "execution_count": 36,
   "metadata": {},
   "outputs": [],
   "source": [
    "open_key = os.getenv('openai_key')"
   ]
  },
  {
   "cell_type": "code",
   "execution_count": 37,
   "metadata": {},
   "outputs": [
    {
     "name": "stderr",
     "output_type": "stream",
     "text": [
      "f:\\ML\\NLP\\MCQ-Generator\\venv\\Lib\\site-packages\\langchain_core-0.1.52-py3.11.egg\\langchain_core\\_api\\deprecation.py:119: LangChainDeprecationWarning: The class `ChatOpenAI` was deprecated in LangChain 0.0.10 and will be removed in 0.3.0. An updated version of the class exists in the langchain-openai package and should be used instead. To use it run `pip install -U langchain-openai` and import as `from langchain_openai import ChatOpenAI`.\n",
      "  warn_deprecated(\n"
     ]
    }
   ],
   "source": [
    "llm = ChatOpenAI(openai_api_key = open_key, model_name='gpt-3.5-turbo',temperature =0.7)"
   ]
  },
  {
   "cell_type": "code",
   "execution_count": 38,
   "metadata": {},
   "outputs": [],
   "source": [
    "template = \"\"\"\n",
    "Text:{text}\n",
    "You are an expert MCQ maker. Given the above text, it is your job to \\\n",
    "create a quiz  of {number} multiple choice questions for {subject} students in {tone} tone. \n",
    "Make sure the questions are not repeated and check all the questions to be conforming the text as well.\n",
    "Make sure to format your response like  RESPONSE_JSON below  and use it as a guide. \\\n",
    "Ensure to make {number} MCQs\n",
    "### RESPONSE_JSON\n",
    "{RESPONSE_JSON}\n",
    "\"\"\""
   ]
  },
  {
   "cell_type": "code",
   "execution_count": 39,
   "metadata": {},
   "outputs": [],
   "source": [
    "prompt_template = PromptTemplate(\n",
    "    input_variables=['text','number','subject','tone','RESPONSE_JSON'],\n",
    "    template=template\n",
    ")"
   ]
  },
  {
   "cell_type": "code",
   "execution_count": 84,
   "metadata": {},
   "outputs": [
    {
     "ename": "FileNotFoundError",
     "evalue": "[Errno 2] No such file or directory: './Response.json'",
     "output_type": "error",
     "traceback": [
      "\u001b[1;31m---------------------------------------------------------------------------\u001b[0m",
      "\u001b[1;31mFileNotFoundError\u001b[0m                         Traceback (most recent call last)",
      "Cell \u001b[1;32mIn[84], line 1\u001b[0m\n\u001b[1;32m----> 1\u001b[0m \u001b[38;5;28;01mwith\u001b[39;00m \u001b[38;5;28;43mopen\u001b[39;49m\u001b[43m(\u001b[49m\u001b[38;5;124;43m'\u001b[39;49m\u001b[38;5;124;43m./Response.json\u001b[39;49m\u001b[38;5;124;43m'\u001b[39;49m\u001b[43m,\u001b[49m\u001b[38;5;124;43m'\u001b[39;49m\u001b[38;5;124;43mr\u001b[39;49m\u001b[38;5;124;43m'\u001b[39;49m\u001b[43m)\u001b[49m \u001b[38;5;28;01mas\u001b[39;00m f:\n\u001b[0;32m      2\u001b[0m     RESPONSE_JSON \u001b[38;5;241m=\u001b[39m json\u001b[38;5;241m.\u001b[39mload(f)\n",
      "File \u001b[1;32mf:\\ML\\NLP\\MCQ-Generator\\venv\\Lib\\site-packages\\IPython\\core\\interactiveshell.py:324\u001b[0m, in \u001b[0;36m_modified_open\u001b[1;34m(file, *args, **kwargs)\u001b[0m\n\u001b[0;32m    317\u001b[0m \u001b[38;5;28;01mif\u001b[39;00m file \u001b[38;5;129;01min\u001b[39;00m {\u001b[38;5;241m0\u001b[39m, \u001b[38;5;241m1\u001b[39m, \u001b[38;5;241m2\u001b[39m}:\n\u001b[0;32m    318\u001b[0m     \u001b[38;5;28;01mraise\u001b[39;00m \u001b[38;5;167;01mValueError\u001b[39;00m(\n\u001b[0;32m    319\u001b[0m         \u001b[38;5;124mf\u001b[39m\u001b[38;5;124m\"\u001b[39m\u001b[38;5;124mIPython won\u001b[39m\u001b[38;5;124m'\u001b[39m\u001b[38;5;124mt let you open fd=\u001b[39m\u001b[38;5;132;01m{\u001b[39;00mfile\u001b[38;5;132;01m}\u001b[39;00m\u001b[38;5;124m by default \u001b[39m\u001b[38;5;124m\"\u001b[39m\n\u001b[0;32m    320\u001b[0m         \u001b[38;5;124m\"\u001b[39m\u001b[38;5;124mas it is likely to crash IPython. If you know what you are doing, \u001b[39m\u001b[38;5;124m\"\u001b[39m\n\u001b[0;32m    321\u001b[0m         \u001b[38;5;124m\"\u001b[39m\u001b[38;5;124myou can use builtins\u001b[39m\u001b[38;5;124m'\u001b[39m\u001b[38;5;124m open.\u001b[39m\u001b[38;5;124m\"\u001b[39m\n\u001b[0;32m    322\u001b[0m     )\n\u001b[1;32m--> 324\u001b[0m \u001b[38;5;28;01mreturn\u001b[39;00m \u001b[43mio_open\u001b[49m\u001b[43m(\u001b[49m\u001b[43mfile\u001b[49m\u001b[43m,\u001b[49m\u001b[43m \u001b[49m\u001b[38;5;241;43m*\u001b[39;49m\u001b[43margs\u001b[49m\u001b[43m,\u001b[49m\u001b[43m \u001b[49m\u001b[38;5;241;43m*\u001b[39;49m\u001b[38;5;241;43m*\u001b[39;49m\u001b[43mkwargs\u001b[49m\u001b[43m)\u001b[49m\n",
      "\u001b[1;31mFileNotFoundError\u001b[0m: [Errno 2] No such file or directory: './Response.json'"
     ]
    }
   ],
   "source": [
    "with open('F:/ML/NLP/MCQ-Generator/Response.json','r') as f:\n",
    "    RESPONSE_JSON = json.load(f)"
   ]
  },
  {
   "cell_type": "code",
   "execution_count": 41,
   "metadata": {},
   "outputs": [
    {
     "data": {
      "text/plain": [
       "{'1': {'no': '1',\n",
       "  'mcq': 'multiple choice questions',\n",
       "  'options': {'a': 'choice here',\n",
       "   'b': 'choice here',\n",
       "   'c': 'choice here',\n",
       "   'd': 'choice here'},\n",
       "  'correct': 'correct answer'},\n",
       " '2': {'no': '2',\n",
       "  'mcq': 'multiple choice questions',\n",
       "  'options': {'a': 'choice here',\n",
       "   'b': 'choice here',\n",
       "   'c': 'choice here',\n",
       "   'd': 'choice here'},\n",
       "  'correct': 'correct answer'},\n",
       " '3': {'no': '3',\n",
       "  'mcq': 'multiple choice questions',\n",
       "  'options': {'a': 'choice here',\n",
       "   'b': 'choice here',\n",
       "   'c': 'choice here',\n",
       "   'd': 'choice here'},\n",
       "  'correct': 'correct answer'}}"
      ]
     },
     "execution_count": 41,
     "metadata": {},
     "output_type": "execute_result"
    }
   ],
   "source": [
    "RESPONSE_JSON"
   ]
  },
  {
   "cell_type": "code",
   "execution_count": 42,
   "metadata": {},
   "outputs": [
    {
     "name": "stderr",
     "output_type": "stream",
     "text": [
      "f:\\ML\\NLP\\MCQ-Generator\\venv\\Lib\\site-packages\\langchain_core-0.1.52-py3.11.egg\\langchain_core\\_api\\deprecation.py:119: LangChainDeprecationWarning: The class `LLMChain` was deprecated in LangChain 0.1.17 and will be removed in 0.3.0. Use RunnableSequence, e.g., `prompt | llm` instead.\n",
      "  warn_deprecated(\n"
     ]
    }
   ],
   "source": [
    "quiz_chain = LLMChain(llm =llm, prompt=prompt_template, output_key = 'quiz',verbose=True)"
   ]
  },
  {
   "cell_type": "code",
   "execution_count": 43,
   "metadata": {},
   "outputs": [],
   "source": [
    "template2=\"\"\"\n",
    "You are an expert english grammarian and writer. Given a Multiple Choice Quiz for {subject} students.\\\n",
    "You need to evaluate the complexity of the question and give a complete analysis of the quiz. Only use at max 50 words for complexity analysis. \n",
    "if the quiz is not at per with the cognitive and analytical abilities of the students,\\\n",
    "update the quiz questions which needs to be changed and change the tone such that it perfectly fits the student abilities\n",
    "Quiz_MCQs:\n",
    "{quiz}\n",
    "\n",
    "Check from an expert English Writer of the above quiz:\n",
    "\"\"\""
   ]
  },
  {
   "cell_type": "code",
   "execution_count": 44,
   "metadata": {},
   "outputs": [],
   "source": [
    "evalution_prompt_template = PromptTemplate(\n",
    "    input_variables=['subject','quiz'],\n",
    "    template=template2\n",
    ")"
   ]
  },
  {
   "cell_type": "code",
   "execution_count": 45,
   "metadata": {},
   "outputs": [],
   "source": [
    "review_chain = LLMChain(llm =llm, prompt=evalution_prompt_template, output_key = 'review',verbose=True)"
   ]
  },
  {
   "cell_type": "code",
   "execution_count": 46,
   "metadata": {},
   "outputs": [],
   "source": [
    "generate_evaluate_chain = SequentialChain(chains=[quiz_chain,review_chain],input_variables=['text','number','subject','tone','RESPONSE_JSON'],output_variables=['quiz','review'])"
   ]
  },
  {
   "cell_type": "code",
   "execution_count": 47,
   "metadata": {},
   "outputs": [],
   "source": [
    "# paragraph for MCQ generation\n",
    "with open('F:/ML/NLP/MCQ-Generator/data.txt') as f:\n",
    "    text = f.read()"
   ]
  },
  {
   "cell_type": "code",
   "execution_count": 48,
   "metadata": {},
   "outputs": [
    {
     "data": {
      "text/plain": [
       "'Cricket is a bat-and-ball game that is played between two teams of eleven players on a field at the centre of which is a 22-yard (20-metre) pitch with a wicket at each end, each comprising two bails balanced on three stumps. Two players from the batting team (the striker and nonstriker) stand in front of either wicket, with one player from the fielding team (the bowler) bowling the ball towards the striker\\'s wicket from the opposite end of the pitch. The striker\\'s goal is to hit the bowled ball and then switch places with the nonstriker, with the batting team scoring one run for each exchange. Runs are also scored when the ball reaches or crosses the boundary of the field or when the ball is bowled illegally.\\n\\nThe fielding team tries to prevent runs from being scored by dismissing batters (so they are \"out\"). Means of dismissal include being bowled, when the ball hits the striker\\'s wicket and dislodges the bails, and by the fielding side either catching the ball after it is hit by the bat, but before it hits the ground, or hitting a wicket with the ball before a batter can cross the crease in front of the wicket. When ten batters have been dismissed, the innings ends and the teams swap roles. Forms of cricket range from Twenty20 (also known as T20), with each team batting for a single innings of 20 overs (each \"over\" being a set of 6 fair opportunities for the batting team to score) and the game generally lasting three to four hours, to Test matches played over five days.\\n\\nTraditionally cricketers play in all-white kit, but in limited overs cricket they wear club or team colours. In addition to the basic kit, some players wear protective gear to prevent injury caused by the ball, which is a hard, solid spheroid made of compressed leather with a slightly raised sewn seam enclosing a cork core layered with tightly wound string.\\n\\nThe earliest known definite reference to cricket is to it being played in South East England in the mid-16th century. It spread globally with the expansion of the British Empire, with the first international matches in the second half of the 19th century. The game\\'s governing body is the International Cricket Council (ICC), which has over 100 members, twelve of which are full members who play Test matches. The game\\'s rules, the Laws of Cricket, are maintained by Marylebone Cricket Club (MCC) in London. The sport is followed primarily in South Asia, Australia, New Zealand, the United Kingdom, Southern Africa and the West Indies.[1]'"
      ]
     },
     "execution_count": 48,
     "metadata": {},
     "output_type": "execute_result"
    }
   ],
   "source": [
    "text"
   ]
  },
  {
   "cell_type": "code",
   "execution_count": 49,
   "metadata": {},
   "outputs": [],
   "source": [
    "number = 5\n",
    "subject = 'Sport'\n",
    "tone = 'Simple'"
   ]
  },
  {
   "cell_type": "code",
   "execution_count": 50,
   "metadata": {},
   "outputs": [],
   "source": [
    "import json\n",
    "RESPONSE_JSON = json.dumps(RESPONSE_JSON)"
   ]
  },
  {
   "cell_type": "code",
   "execution_count": 51,
   "metadata": {},
   "outputs": [
    {
     "data": {
      "text/plain": [
       "'{\"1\": {\"no\": \"1\", \"mcq\": \"multiple choice questions\", \"options\": {\"a\": \"choice here\", \"b\": \"choice here\", \"c\": \"choice here\", \"d\": \"choice here\"}, \"correct\": \"correct answer\"}, \"2\": {\"no\": \"2\", \"mcq\": \"multiple choice questions\", \"options\": {\"a\": \"choice here\", \"b\": \"choice here\", \"c\": \"choice here\", \"d\": \"choice here\"}, \"correct\": \"correct answer\"}, \"3\": {\"no\": \"3\", \"mcq\": \"multiple choice questions\", \"options\": {\"a\": \"choice here\", \"b\": \"choice here\", \"c\": \"choice here\", \"d\": \"choice here\"}, \"correct\": \"correct answer\"}}'"
      ]
     },
     "execution_count": 51,
     "metadata": {},
     "output_type": "execute_result"
    }
   ],
   "source": [
    "RESPONSE_JSON"
   ]
  },
  {
   "cell_type": "code",
   "execution_count": 52,
   "metadata": {},
   "outputs": [
    {
     "name": "stderr",
     "output_type": "stream",
     "text": [
      "f:\\ML\\NLP\\MCQ-Generator\\venv\\Lib\\site-packages\\langchain_core-0.1.52-py3.11.egg\\langchain_core\\_api\\deprecation.py:119: LangChainDeprecationWarning: The method `Chain.__call__` was deprecated in langchain 0.1.0 and will be removed in 0.3.0. Use invoke instead.\n",
      "  warn_deprecated(\n"
     ]
    },
    {
     "name": "stdout",
     "output_type": "stream",
     "text": [
      "\n",
      "\n",
      "\u001b[1m> Entering new LLMChain chain...\u001b[0m\n",
      "Prompt after formatting:\n",
      "\u001b[32;1m\u001b[1;3m\n",
      "Text:Cricket is a bat-and-ball game that is played between two teams of eleven players on a field at the centre of which is a 22-yard (20-metre) pitch with a wicket at each end, each comprising two bails balanced on three stumps. Two players from the batting team (the striker and nonstriker) stand in front of either wicket, with one player from the fielding team (the bowler) bowling the ball towards the striker's wicket from the opposite end of the pitch. The striker's goal is to hit the bowled ball and then switch places with the nonstriker, with the batting team scoring one run for each exchange. Runs are also scored when the ball reaches or crosses the boundary of the field or when the ball is bowled illegally.\n",
      "\n",
      "The fielding team tries to prevent runs from being scored by dismissing batters (so they are \"out\"). Means of dismissal include being bowled, when the ball hits the striker's wicket and dislodges the bails, and by the fielding side either catching the ball after it is hit by the bat, but before it hits the ground, or hitting a wicket with the ball before a batter can cross the crease in front of the wicket. When ten batters have been dismissed, the innings ends and the teams swap roles. Forms of cricket range from Twenty20 (also known as T20), with each team batting for a single innings of 20 overs (each \"over\" being a set of 6 fair opportunities for the batting team to score) and the game generally lasting three to four hours, to Test matches played over five days.\n",
      "\n",
      "Traditionally cricketers play in all-white kit, but in limited overs cricket they wear club or team colours. In addition to the basic kit, some players wear protective gear to prevent injury caused by the ball, which is a hard, solid spheroid made of compressed leather with a slightly raised sewn seam enclosing a cork core layered with tightly wound string.\n",
      "\n",
      "The earliest known definite reference to cricket is to it being played in South East England in the mid-16th century. It spread globally with the expansion of the British Empire, with the first international matches in the second half of the 19th century. The game's governing body is the International Cricket Council (ICC), which has over 100 members, twelve of which are full members who play Test matches. The game's rules, the Laws of Cricket, are maintained by Marylebone Cricket Club (MCC) in London. The sport is followed primarily in South Asia, Australia, New Zealand, the United Kingdom, Southern Africa and the West Indies.[1]\n",
      "You are an expert MCQ maker. Given the above text, it is your job to create a quiz  of 5 multiple choice questions for Sport students in Simple tone. \n",
      "Make sure the questions are not repeated and check all the questions to be conforming the text as well.\n",
      "Make sure to format your response like  RESPONSE_JSON below  and use it as a guide. Ensure to make 5 MCQs\n",
      "### RESPONSE_JSON\n",
      "{\"1\": {\"no\": \"1\", \"mcq\": \"multiple choice questions\", \"options\": {\"a\": \"choice here\", \"b\": \"choice here\", \"c\": \"choice here\", \"d\": \"choice here\"}, \"correct\": \"correct answer\"}, \"2\": {\"no\": \"2\", \"mcq\": \"multiple choice questions\", \"options\": {\"a\": \"choice here\", \"b\": \"choice here\", \"c\": \"choice here\", \"d\": \"choice here\"}, \"correct\": \"correct answer\"}, \"3\": {\"no\": \"3\", \"mcq\": \"multiple choice questions\", \"options\": {\"a\": \"choice here\", \"b\": \"choice here\", \"c\": \"choice here\", \"d\": \"choice here\"}, \"correct\": \"correct answer\"}}\n",
      "\u001b[0m\n",
      "\n",
      "\u001b[1m> Finished chain.\u001b[0m\n",
      "\n",
      "\n",
      "\u001b[1m> Entering new LLMChain chain...\u001b[0m\n",
      "Prompt after formatting:\n",
      "\u001b[32;1m\u001b[1;3m\n",
      "You are an expert english grammarian and writer. Given a Multiple Choice Quiz for Sport students.You need to evaluate the complexity of the question and give a complete analysis of the quiz. Only use at max 50 words for complexity analysis. \n",
      "if the quiz is not at per with the cognitive and analytical abilities of the students,update the quiz questions which needs to be changed and change the tone such that it perfectly fits the student abilities\n",
      "Quiz_MCQs:\n",
      "\n",
      "{\n",
      "    \"1\": {\n",
      "        \"no\": \"1\",\n",
      "        \"mcq\": \"What is the main objective of the fielding team in cricket?\",\n",
      "        \"options\": {\n",
      "            \"a\": \"To score runs\",\n",
      "            \"b\": \"To dismiss batters\",\n",
      "            \"c\": \"To hit boundaries\",\n",
      "            \"d\": \"To switch places with the nonstriker\"\n",
      "        },\n",
      "        \"correct\": \"b\"\n",
      "    },\n",
      "    \"2\": {\n",
      "        \"no\": \"2\",\n",
      "        \"mcq\": \"What is the role of the bowler in cricket?\",\n",
      "        \"options\": {\n",
      "            \"a\": \"To hit boundaries\",\n",
      "            \"b\": \"To switch places with the nonstriker\",\n",
      "            \"c\": \"To bowl the ball towards the striker's wicket\",\n",
      "            \"d\": \"To score runs\"\n",
      "        },\n",
      "        \"correct\": \"c\"\n",
      "    },\n",
      "    \"3\": {\n",
      "        \"no\": \"3\",\n",
      "        \"mcq\": \"How many bails are balanced on the stumps of a wicket in cricket?\",\n",
      "        \"options\": {\n",
      "            \"a\": \"One\",\n",
      "            \"b\": \"Three\",\n",
      "            \"c\": \"Two\",\n",
      "            \"d\": \"Four\"\n",
      "        },\n",
      "        \"correct\": \"c\"\n",
      "    },\n",
      "    \"4\": {\n",
      "        \"no\": \"4\",\n",
      "        \"mcq\": \"What is the purpose of wearing protective gear in cricket?\",\n",
      "        \"options\": {\n",
      "            \"a\": \"To hit boundaries\",\n",
      "            \"b\": \"To prevent injury caused by the ball\",\n",
      "            \"c\": \"To dismiss batters\",\n",
      "            \"d\": \"To score runs\"\n",
      "        },\n",
      "        \"correct\": \"b\"\n",
      "    },\n",
      "    \"5\": {\n",
      "        \"no\": \"5\",\n",
      "        \"mcq\": \"Which governing body is responsible for maintaining the Laws of Cricket?\",\n",
      "        \"options\": {\n",
      "            \"a\": \"International Cricket Council\",\n",
      "            \"b\": \"Marylebone Cricket Club\",\n",
      "            \"c\": \"FIFA\",\n",
      "            \"d\": \"NBA\"\n",
      "        },\n",
      "        \"correct\": \"b\"\n",
      "    }\n",
      "}\n",
      "\n",
      "Check from an expert English Writer of the above quiz:\n",
      "\u001b[0m\n",
      "\n",
      "\u001b[1m> Finished chain.\u001b[0m\n"
     ]
    }
   ],
   "source": [
    "\n",
    "with get_openai_callback() as cb:\n",
    "    response = generate_evaluate_chain(\n",
    "        {\n",
    "        'text':text,\n",
    "        'number':number,\n",
    "        'subject':subject,\n",
    "        'tone':tone,\n",
    "        'RESPONSE_JSON':RESPONSE_JSON\n",
    "        }\n",
    "    )"
   ]
  },
  {
   "cell_type": "code",
   "execution_count": 53,
   "metadata": {},
   "outputs": [
    {
     "name": "stdout",
     "output_type": "stream",
     "text": [
      "Total Tokens: 1835\n",
      "Prompt Tokens: 1355\n",
      "Completion Tokens: 480\n",
      "Total Cost (USD): $0.0029925\n"
     ]
    }
   ],
   "source": [
    "print(f\"Total Tokens: {cb.total_tokens}\")\n",
    "print(f\"Prompt Tokens: {cb.prompt_tokens}\")\n",
    "print(f\"Completion Tokens: {cb.completion_tokens}\")\n",
    "print(f\"Total Cost (USD): ${cb.total_cost}\")"
   ]
  },
  {
   "cell_type": "code",
   "execution_count": 54,
   "metadata": {},
   "outputs": [
    {
     "data": {
      "text/plain": [
       "'\\n{\\n    \"1\": {\\n        \"no\": \"1\",\\n        \"mcq\": \"What is the main objective of the fielding team in cricket?\",\\n        \"options\": {\\n            \"a\": \"To score runs\",\\n            \"b\": \"To dismiss batters\",\\n            \"c\": \"To hit boundaries\",\\n            \"d\": \"To switch places with the nonstriker\"\\n        },\\n        \"correct\": \"b\"\\n    },\\n    \"2\": {\\n        \"no\": \"2\",\\n        \"mcq\": \"What is the role of the bowler in cricket?\",\\n        \"options\": {\\n            \"a\": \"To hit boundaries\",\\n            \"b\": \"To switch places with the nonstriker\",\\n            \"c\": \"To bowl the ball towards the striker\\'s wicket\",\\n            \"d\": \"To score runs\"\\n        },\\n        \"correct\": \"c\"\\n    },\\n    \"3\": {\\n        \"no\": \"3\",\\n        \"mcq\": \"How many bails are balanced on the stumps of a wicket in cricket?\",\\n        \"options\": {\\n            \"a\": \"One\",\\n            \"b\": \"Three\",\\n            \"c\": \"Two\",\\n            \"d\": \"Four\"\\n        },\\n        \"correct\": \"c\"\\n    },\\n    \"4\": {\\n        \"no\": \"4\",\\n        \"mcq\": \"What is the purpose of wearing protective gear in cricket?\",\\n        \"options\": {\\n            \"a\": \"To hit boundaries\",\\n            \"b\": \"To prevent injury caused by the ball\",\\n            \"c\": \"To dismiss batters\",\\n            \"d\": \"To score runs\"\\n        },\\n        \"correct\": \"b\"\\n    },\\n    \"5\": {\\n        \"no\": \"5\",\\n        \"mcq\": \"Which governing body is responsible for maintaining the Laws of Cricket?\",\\n        \"options\": {\\n            \"a\": \"International Cricket Council\",\\n            \"b\": \"Marylebone Cricket Club\",\\n            \"c\": \"FIFA\",\\n            \"d\": \"NBA\"\\n        },\\n        \"correct\": \"b\"\\n    }\\n}'"
      ]
     },
     "execution_count": 54,
     "metadata": {},
     "output_type": "execute_result"
    }
   ],
   "source": [
    "quiz = response.get('quiz')\n",
    "quiz"
   ]
  },
  {
   "cell_type": "code",
   "execution_count": 55,
   "metadata": {},
   "outputs": [
    {
     "data": {
      "text/plain": [
       "str"
      ]
     },
     "execution_count": 55,
     "metadata": {},
     "output_type": "execute_result"
    }
   ],
   "source": [
    "type(quiz)"
   ]
  },
  {
   "cell_type": "code",
   "execution_count": 56,
   "metadata": {},
   "outputs": [
    {
     "data": {
      "text/plain": [
       "{'1': {'no': '1',\n",
       "  'mcq': 'What is the main objective of the fielding team in cricket?',\n",
       "  'options': {'a': 'To score runs',\n",
       "   'b': 'To dismiss batters',\n",
       "   'c': 'To hit boundaries',\n",
       "   'd': 'To switch places with the nonstriker'},\n",
       "  'correct': 'b'},\n",
       " '2': {'no': '2',\n",
       "  'mcq': 'What is the role of the bowler in cricket?',\n",
       "  'options': {'a': 'To hit boundaries',\n",
       "   'b': 'To switch places with the nonstriker',\n",
       "   'c': \"To bowl the ball towards the striker's wicket\",\n",
       "   'd': 'To score runs'},\n",
       "  'correct': 'c'},\n",
       " '3': {'no': '3',\n",
       "  'mcq': 'How many bails are balanced on the stumps of a wicket in cricket?',\n",
       "  'options': {'a': 'One', 'b': 'Three', 'c': 'Two', 'd': 'Four'},\n",
       "  'correct': 'c'},\n",
       " '4': {'no': '4',\n",
       "  'mcq': 'What is the purpose of wearing protective gear in cricket?',\n",
       "  'options': {'a': 'To hit boundaries',\n",
       "   'b': 'To prevent injury caused by the ball',\n",
       "   'c': 'To dismiss batters',\n",
       "   'd': 'To score runs'},\n",
       "  'correct': 'b'},\n",
       " '5': {'no': '5',\n",
       "  'mcq': 'Which governing body is responsible for maintaining the Laws of Cricket?',\n",
       "  'options': {'a': 'International Cricket Council',\n",
       "   'b': 'Marylebone Cricket Club',\n",
       "   'c': 'FIFA',\n",
       "   'd': 'NBA'},\n",
       "  'correct': 'b'}}"
      ]
     },
     "execution_count": 56,
     "metadata": {},
     "output_type": "execute_result"
    }
   ],
   "source": [
    "quiz = json.loads(quiz)\n",
    "quiz"
   ]
  },
  {
   "cell_type": "code",
   "execution_count": 57,
   "metadata": {},
   "outputs": [
    {
     "data": {
      "text/plain": [
       "dict"
      ]
     },
     "execution_count": 57,
     "metadata": {},
     "output_type": "execute_result"
    }
   ],
   "source": [
    "type(quiz)"
   ]
  },
  {
   "cell_type": "code",
   "execution_count": 58,
   "metadata": {},
   "outputs": [
    {
     "data": {
      "text/plain": [
       "dict_items"
      ]
     },
     "execution_count": 58,
     "metadata": {},
     "output_type": "execute_result"
    }
   ],
   "source": [
    "type(quiz.items())"
   ]
  },
  {
   "cell_type": "code",
   "execution_count": 59,
   "metadata": {},
   "outputs": [
    {
     "name": "stdout",
     "output_type": "stream",
     "text": [
      "{'no': '1', 'mcq': 'What is the main objective of the fielding team in cricket?', 'options': {'a': 'To score runs', 'b': 'To dismiss batters', 'c': 'To hit boundaries', 'd': 'To switch places with the nonstriker'}, 'correct': 'b'}\n",
      "{'no': '2', 'mcq': 'What is the role of the bowler in cricket?', 'options': {'a': 'To hit boundaries', 'b': 'To switch places with the nonstriker', 'c': \"To bowl the ball towards the striker's wicket\", 'd': 'To score runs'}, 'correct': 'c'}\n",
      "{'no': '3', 'mcq': 'How many bails are balanced on the stumps of a wicket in cricket?', 'options': {'a': 'One', 'b': 'Three', 'c': 'Two', 'd': 'Four'}, 'correct': 'c'}\n",
      "{'no': '4', 'mcq': 'What is the purpose of wearing protective gear in cricket?', 'options': {'a': 'To hit boundaries', 'b': 'To prevent injury caused by the ball', 'c': 'To dismiss batters', 'd': 'To score runs'}, 'correct': 'b'}\n",
      "{'no': '5', 'mcq': 'Which governing body is responsible for maintaining the Laws of Cricket?', 'options': {'a': 'International Cricket Council', 'b': 'Marylebone Cricket Club', 'c': 'FIFA', 'd': 'NBA'}, 'correct': 'b'}\n"
     ]
    }
   ],
   "source": [
    "\n",
    "for key,value in quiz.items():\n",
    "    print(value)"
   ]
  },
  {
   "cell_type": "code",
   "execution_count": 77,
   "metadata": {},
   "outputs": [],
   "source": [
    "quiz_table = []\n",
    "\n",
    "for key,value in quiz.items():\n",
    "    QNO = value['no']\n",
    "    mcq = value['mcq']\n",
    "    options = \"|\".join(\n",
    "        #list comprehension\n",
    "        [\n",
    "            f\"{option}:{option_value}\"\n",
    "            for option , option_value in value['options'].items()\n",
    "        ]\n",
    "    )\n",
    "\n",
    "    correct = value['correct']\n",
    "    quiz_table.append({\"Q.NO.\":QNO,\"MCQ\":mcq,\"Choices\":options,\"Correct\":correct})"
   ]
  },
  {
   "cell_type": "code",
   "execution_count": 78,
   "metadata": {},
   "outputs": [
    {
     "data": {
      "text/plain": [
       "[{'Q.NO.': '1',\n",
       "  'MCQ': 'What is the main objective of the fielding team in cricket?',\n",
       "  'Choices': 'a:To score runs|b:To dismiss batters|c:To hit boundaries|d:To switch places with the nonstriker',\n",
       "  'Correct': 'b'},\n",
       " {'Q.NO.': '2',\n",
       "  'MCQ': 'What is the role of the bowler in cricket?',\n",
       "  'Choices': \"a:To hit boundaries|b:To switch places with the nonstriker|c:To bowl the ball towards the striker's wicket|d:To score runs\",\n",
       "  'Correct': 'c'},\n",
       " {'Q.NO.': '3',\n",
       "  'MCQ': 'How many bails are balanced on the stumps of a wicket in cricket?',\n",
       "  'Choices': 'a:One|b:Three|c:Two|d:Four',\n",
       "  'Correct': 'c'},\n",
       " {'Q.NO.': '4',\n",
       "  'MCQ': 'What is the purpose of wearing protective gear in cricket?',\n",
       "  'Choices': 'a:To hit boundaries|b:To prevent injury caused by the ball|c:To dismiss batters|d:To score runs',\n",
       "  'Correct': 'b'},\n",
       " {'Q.NO.': '5',\n",
       "  'MCQ': 'Which governing body is responsible for maintaining the Laws of Cricket?',\n",
       "  'Choices': 'a:International Cricket Council|b:Marylebone Cricket Club|c:FIFA|d:NBA',\n",
       "  'Correct': 'b'}]"
      ]
     },
     "execution_count": 78,
     "metadata": {},
     "output_type": "execute_result"
    }
   ],
   "source": [
    "quiz_table"
   ]
  },
  {
   "cell_type": "code",
   "execution_count": 79,
   "metadata": {},
   "outputs": [
    {
     "data": {
      "text/plain": [
       "list"
      ]
     },
     "execution_count": 79,
     "metadata": {},
     "output_type": "execute_result"
    }
   ],
   "source": [
    "type(quiz_table)"
   ]
  },
  {
   "cell_type": "code",
   "execution_count": 80,
   "metadata": {},
   "outputs": [
    {
     "data": {
      "text/html": [
       "<div>\n",
       "<style scoped>\n",
       "    .dataframe tbody tr th:only-of-type {\n",
       "        vertical-align: middle;\n",
       "    }\n",
       "\n",
       "    .dataframe tbody tr th {\n",
       "        vertical-align: top;\n",
       "    }\n",
       "\n",
       "    .dataframe thead th {\n",
       "        text-align: right;\n",
       "    }\n",
       "</style>\n",
       "<table border=\"1\" class=\"dataframe\">\n",
       "  <thead>\n",
       "    <tr style=\"text-align: right;\">\n",
       "      <th></th>\n",
       "      <th>Q.NO.</th>\n",
       "      <th>MCQ</th>\n",
       "      <th>Choices</th>\n",
       "      <th>Correct</th>\n",
       "    </tr>\n",
       "  </thead>\n",
       "  <tbody>\n",
       "    <tr>\n",
       "      <th>0</th>\n",
       "      <td>1</td>\n",
       "      <td>What is the main objective of the fielding tea...</td>\n",
       "      <td>a:To score runs|b:To dismiss batters|c:To hit ...</td>\n",
       "      <td>b</td>\n",
       "    </tr>\n",
       "    <tr>\n",
       "      <th>1</th>\n",
       "      <td>2</td>\n",
       "      <td>What is the role of the bowler in cricket?</td>\n",
       "      <td>a:To hit boundaries|b:To switch places with th...</td>\n",
       "      <td>c</td>\n",
       "    </tr>\n",
       "    <tr>\n",
       "      <th>2</th>\n",
       "      <td>3</td>\n",
       "      <td>How many bails are balanced on the stumps of a...</td>\n",
       "      <td>a:One|b:Three|c:Two|d:Four</td>\n",
       "      <td>c</td>\n",
       "    </tr>\n",
       "    <tr>\n",
       "      <th>3</th>\n",
       "      <td>4</td>\n",
       "      <td>What is the purpose of wearing protective gear...</td>\n",
       "      <td>a:To hit boundaries|b:To prevent injury caused...</td>\n",
       "      <td>b</td>\n",
       "    </tr>\n",
       "    <tr>\n",
       "      <th>4</th>\n",
       "      <td>5</td>\n",
       "      <td>Which governing body is responsible for mainta...</td>\n",
       "      <td>a:International Cricket Council|b:Marylebone C...</td>\n",
       "      <td>b</td>\n",
       "    </tr>\n",
       "  </tbody>\n",
       "</table>\n",
       "</div>"
      ],
      "text/plain": [
       "  Q.NO.                                                MCQ  \\\n",
       "0     1  What is the main objective of the fielding tea...   \n",
       "1     2         What is the role of the bowler in cricket?   \n",
       "2     3  How many bails are balanced on the stumps of a...   \n",
       "3     4  What is the purpose of wearing protective gear...   \n",
       "4     5  Which governing body is responsible for mainta...   \n",
       "\n",
       "                                             Choices Correct  \n",
       "0  a:To score runs|b:To dismiss batters|c:To hit ...       b  \n",
       "1  a:To hit boundaries|b:To switch places with th...       c  \n",
       "2                         a:One|b:Three|c:Two|d:Four       c  \n",
       "3  a:To hit boundaries|b:To prevent injury caused...       b  \n",
       "4  a:International Cricket Council|b:Marylebone C...       b  "
      ]
     },
     "execution_count": 80,
     "metadata": {},
     "output_type": "execute_result"
    }
   ],
   "source": [
    "df = pd.DataFrame(quiz_table)\n",
    "df"
   ]
  },
  {
   "cell_type": "code",
   "execution_count": 75,
   "metadata": {},
   "outputs": [],
   "source": [
    "df.to_csv('quiz_cricket1.csv',index = False)"
   ]
  },
  {
   "cell_type": "code",
   "execution_count": 1,
   "metadata": {},
   "outputs": [],
   "source": [
    "\n",
    "log_file = \"{datetime.now().strtime('%m_%d_%Y_%H_%M_%S')}.log\"\n"
   ]
  },
  {
   "cell_type": "code",
   "execution_count": 2,
   "metadata": {},
   "outputs": [
    {
     "data": {
      "text/plain": [
       "\"{datetime.now().strtime('%m_%d_%Y_%H_%M_%S')}.log\""
      ]
     },
     "execution_count": 2,
     "metadata": {},
     "output_type": "execute_result"
    }
   ],
   "source": [
    "log_file"
   ]
  },
  {
   "cell_type": "code",
   "execution_count": 13,
   "metadata": {},
   "outputs": [
    {
     "data": {
      "text/plain": [
       "'11/05/2024 10:53:06'"
      ]
     },
     "execution_count": 13,
     "metadata": {},
     "output_type": "execute_result"
    }
   ],
   "source": [
    "from datetime import datetime\n",
    "datetime.now().strftime(\"%d/%m/%Y %H:%M:%S\")"
   ]
  },
  {
   "cell_type": "code",
   "execution_count": 14,
   "metadata": {},
   "outputs": [],
   "source": [
    "datetimeFormat = '%d/%m/%Y %H:%M:%S'\n",
    "log_file = \"{datetime.now().strftime({datetimeFormat})}.log\""
   ]
  },
  {
   "cell_type": "code",
   "execution_count": 17,
   "metadata": {},
   "outputs": [
    {
     "data": {
      "text/plain": [
       "'11/05/2024 10:59:39'"
      ]
     },
     "execution_count": 17,
     "metadata": {},
     "output_type": "execute_result"
    }
   ],
   "source": [
    "datetime.now().strftime(datetimeFormat)"
   ]
  },
  {
   "cell_type": "code",
   "execution_count": 65,
   "metadata": {},
   "outputs": [],
   "source": [
    "import pandas as pd\n",
    "import matplotlib.pyplot as plt\n",
    "import streamlit as st\n",
    "\n",
    "# Function to create PDF\n",
    "def create_pdf(df, filename):\n",
    "    # Create a figure and axis object\n",
    "    fig, ax = plt.subplots(figsize=(10, 5))\n",
    "\n",
    "    # Hide the axes\n",
    "    ax.axis('off')\n",
    "\n",
    "    # Create a table and add it to the axis\n",
    "    table = ax.table(cellText=df.values, colLabels=df.columns, loc='center')\n",
    "\n",
    "    # Save the figure as a PDF\n",
    "    plt.savefig(filename)\n",
    "\n",
    "# Sample data\n",
    "data = {'Name': ['John', 'Anna', 'Peter', 'Linda'],\n",
    "        'Age': [28, 35, 45, 30],\n",
    "        'City': ['New York', 'Paris', 'London', 'Berlin']}\n",
    "\n",
    "\n",
    "# def PDF(subject, data):\n",
    "#     if st.button('Download PDF'):\n",
    "#         filename = subject + \".pdf\"\n",
    "#         create_pdf(data,filename)\n",
    "#         st.success('PDF file has been downloaded!')\n",
    "\n",
    "\n",
    "# Add a link to download the PDF directly\n",
    "# st.markdown('[Download PDF](dataframe.pdf)', unsafe_allow_html=True)"
   ]
  },
  {
   "cell_type": "code",
   "execution_count": 69,
   "metadata": {},
   "outputs": [
    {
     "data": {
      "text/plain": [
       "array([['1',\n",
       "        'What is the main objective of the fielding team in cricket?',\n",
       "        'a:To score runs | b:To dismiss batters | c:To hit boundaries | d:To switch places with the nonstriker',\n",
       "        'b'],\n",
       "       ['2', 'What is the role of the bowler in cricket?',\n",
       "        \"a:To hit boundaries | b:To switch places with the nonstriker | c:To bowl the ball towards the striker's wicket | d:To score runs\",\n",
       "        'c'],\n",
       "       ['3',\n",
       "        'How many bails are balanced on the stumps of a wicket in cricket?',\n",
       "        'a:One | b:Three | c:Two | d:Four', 'c'],\n",
       "       ['4',\n",
       "        'What is the purpose of wearing protective gear in cricket?',\n",
       "        'a:To hit boundaries | b:To prevent injury caused by the ball | c:To dismiss batters | d:To score runs',\n",
       "        'b'],\n",
       "       ['5',\n",
       "        'Which governing body is responsible for maintaining the Laws of Cricket?',\n",
       "        'a:International Cricket Council | b:Marylebone Cricket Club | c:FIFA | d:NBA',\n",
       "        'b']], dtype=object)"
      ]
     },
     "execution_count": 69,
     "metadata": {},
     "output_type": "execute_result"
    }
   ],
   "source": [
    "df.values"
   ]
  },
  {
   "cell_type": "code",
   "execution_count": 1,
   "metadata": {},
   "outputs": [],
   "source": [
    "import PyPDF2"
   ]
  },
  {
   "cell_type": "code",
   "execution_count": 18,
   "metadata": {},
   "outputs": [
    {
     "data": {
      "text/plain": [
       "\"Chapter - 1 \\nThe modern  Olympic Games  or Olympics  (French:  Jeux olympiques )[a][1] are the leading \\ninternational sporting events featuring summer and  winter sports  competitions in which \\nthousands of  athletes  from around the world participate in a  variety of competitions . The Olympic \\nGames are considered the world's foremost sports competition with more than 200 teams, \\nrepresenting sovereign states and territories participating; by default the Games generally \\nsubstitute for any World Championships the year in which they t ake place (however, each class \\nusually maintains their own records) .[2] The Olympic Games are held every  four years ; \\nsince  1994 , they have been alternated between the  Summer  and Winter Olympics  every two \\nyears during the four -year period .[3][4] \\nTheir creation was inspired by the  ancient Olympic Games , held in  Olympia, Greece  from the 8th \\ncentury BC to the 4th century AD.  Baron Pierre de Coubertin  founded the  International Olympic \\nCommittee  (IOC) in 1894, leading to the first modern Games in  Athens  in 1896. The IOC is the \\ngoverning body of the  Olympic Movement , which encompasses all entities and individuals \\ninvolved in the Olympic Games. The  Olympic Charter  defines their structure and authority.  \\nThe evolution of the Olympic Movement during the 20th and 21st centuries has resulted in \\nnumerous changes to the Olympic Games. Some of these adjustments include the creation of \\nthe Winter Olympic Games for snow and ice sports, the  Paralympic Games  for athletes with \\ndisabilities, the  Youth Olympic Games  for athletes aged 14 to 18, the five Continental games \\n(Pan American , African , Asian , European , and  Pacific ), and the  World Games  for sports that are \\nnot contested in the Olympic Games. The IOC also endorses the  Deaflympics  and the  Special \\nOlympics . The  IOC has needed to adapt to a variety of economic, political, and technological \\nadvancements. The  abuse of amateur rules  by the  Eastern Bloc  nations prompted the IOC to \\nshift away from pure  amateurism , as envisioned by Coubertin, to the acceptance of  professional \\nathletes  participating at the Games. The growing importance of mass media has created the \\nissue of  corporate sponsorship  and general commercialisation of the Games. World \\nWars  I and II led to the cancellation of the  1916 , 1940 , and  1944  Olympics; large -scale boycotts \\nduring the  Cold War  limited participation in the  1980  and 1984  Olympics ;[5] and \\nthe 2020  Olympics were postponed until 2021 as a result of the  COVID -19 pandemic . \\n \""
      ]
     },
     "execution_count": 18,
     "metadata": {},
     "output_type": "execute_result"
    }
   ],
   "source": [
    "text = \"\"\n",
    "with open(\"C:/Users/LENOVO/OneDrive/Documents/mcqcheck.pdf\",'rb') as f:\n",
    "        pdf_reader = PyPDF2.PdfReader(f)\n",
    "        num_pages = len(pdf_reader.pages)\n",
    "        for page_number in range(num_pages):\n",
    "            page = pdf_reader.pages[page_number]\n",
    "            text += page.extract_text()\n",
    "            \n",
    "            \n",
    "text"
   ]
  },
  {
   "cell_type": "code",
   "execution_count": 3,
   "metadata": {},
   "outputs": [
    {
     "name": "stdout",
     "output_type": "stream",
     "text": [
      "3.0.1\n"
     ]
    }
   ],
   "source": [
    "print(PyPDF2.__version__)"
   ]
  },
  {
   "cell_type": "code",
   "execution_count": 21,
   "metadata": {},
   "outputs": [
    {
     "name": "stdout",
     "output_type": "stream",
     "text": [
      "Chapter - 1 \n",
      "The modern  Olympic Games  or Olympics  (French:  Jeux olympiques )[a][1] are the leading \n",
      "international sporting events featuring summer and  winter sports  competitions in which \n",
      "thousands of  athletes  from around the world participate in a  variety of competitions . The Olympic \n",
      "Games are considered the world's foremost sports competition with more than 200 teams, \n",
      "representing sovereign states and territories participating; by default the Games generally \n",
      "substitute for any World Championships the year in which they t ake place (however, each class \n",
      "usually maintains their own records) .[2] The Olympic Games are held every  four years ; \n",
      "since  1994 , they have been alternated between the  Summer  and Winter Olympics  every two \n",
      "years during the four -year period .[3][4] \n",
      "Their creation was inspired by the  ancient Olympic Games , held in  Olympia, Greece  from the 8th \n",
      "century BC to the 4th century AD.  Baron Pierre de Coubertin  founded the  International Olympic \n",
      "Committee  (IOC) in 1894, leading to the first modern Games in  Athens  in 1896. The IOC is the \n",
      "governing body of the  Olympic Movement , which encompasses all entities and individuals \n",
      "involved in the Olympic Games. The  Olympic Charter  defines their structure and authority.  \n",
      "The evolution of the Olympic Movement during the 20th and 21st centuries has resulted in \n",
      "numerous changes to the Olympic Games. Some of these adjustments include the creation of \n",
      "the Winter Olympic Games for snow and ice sports, the  Paralympic Games  for athletes with \n",
      "disabilities, the  Youth Olympic Games  for athletes aged 14 to 18, the five Continental games \n",
      "(Pan American , African , Asian , European , and  Pacific ), and the  World Games  for sports that are \n",
      "not contested in the Olympic Games. The IOC also endorses the  Deaflympics  and the  Special \n",
      "Olympics . The  IOC has needed to adapt to a variety of economic, political, and technological \n",
      "advancements. The  abuse of amateur rules  by the  Eastern Bloc  nations prompted the IOC to \n",
      "shift away from pure  amateurism , as envisioned by Coubertin, to the acceptance of  professional \n",
      "athletes  participating at the Games. The growing importance of mass media has created the \n",
      "issue of  corporate sponsorship  and general commercialisation of the Games. World \n",
      "Wars  I and II led to the cancellation of the  1916 , 1940 , and  1944  Olympics; large -scale boycotts \n",
      "during the  Cold War  limited participation in the  1980  and 1984  Olympics ;[5] and \n",
      "the 2020  Olympics were postponed until 2021 as a result of the  COVID -19 pandemic . \n",
      " \n"
     ]
    }
   ],
   "source": [
    "file = \"C:/Users/LENOVO/OneDrive/Documents/mcqcheck.pdf\"\n",
    "if file.endswith('.pdf'):\n",
    "        try:\n",
    "            text = \"\"\n",
    "            with open(file,'rb') as f:\n",
    "                pdf_reader = PyPDF2.PdfReader(f)\n",
    "                num_pages = len(pdf_reader.pages)\n",
    "                for page_number in range(num_pages):\n",
    "                    page = pdf_reader.pages[page_number]\n",
    "                    text += page.extract_text()\n",
    "            print(text)\n",
    "        except Exception as e:\n",
    "            raise Exception('Error in reading the PDF file')"
   ]
  },
  {
   "cell_type": "code",
   "execution_count": 25,
   "metadata": {},
   "outputs": [
    {
     "ename": "FileNotFoundError",
     "evalue": "[Errno 2] No such file or directory: 'Response.json'",
     "output_type": "error",
     "traceback": [
      "\u001b[1;31m---------------------------------------------------------------------------\u001b[0m",
      "\u001b[1;31mFileNotFoundError\u001b[0m                         Traceback (most recent call last)",
      "Cell \u001b[1;32mIn[25], line 1\u001b[0m\n\u001b[1;32m----> 1\u001b[0m \u001b[38;5;28;01mwith\u001b[39;00m \u001b[38;5;28;43mopen\u001b[39;49m\u001b[43m(\u001b[49m\u001b[38;5;124;43m'\u001b[39;49m\u001b[38;5;124;43mResponse.json\u001b[39;49m\u001b[38;5;124;43m'\u001b[39;49m\u001b[43m,\u001b[49m\u001b[38;5;124;43m'\u001b[39;49m\u001b[38;5;124;43mr\u001b[39;49m\u001b[38;5;124;43m'\u001b[39;49m\u001b[43m)\u001b[49m \u001b[38;5;28;01mas\u001b[39;00m f:\n\u001b[0;32m      2\u001b[0m     RESPONSE_JSON \u001b[38;5;241m=\u001b[39m json\u001b[38;5;241m.\u001b[39mload(f)\n",
      "File \u001b[1;32mf:\\ML\\NLP\\MCQ-Generator\\venv\\Lib\\site-packages\\IPython\\core\\interactiveshell.py:324\u001b[0m, in \u001b[0;36m_modified_open\u001b[1;34m(file, *args, **kwargs)\u001b[0m\n\u001b[0;32m    317\u001b[0m \u001b[38;5;28;01mif\u001b[39;00m file \u001b[38;5;129;01min\u001b[39;00m {\u001b[38;5;241m0\u001b[39m, \u001b[38;5;241m1\u001b[39m, \u001b[38;5;241m2\u001b[39m}:\n\u001b[0;32m    318\u001b[0m     \u001b[38;5;28;01mraise\u001b[39;00m \u001b[38;5;167;01mValueError\u001b[39;00m(\n\u001b[0;32m    319\u001b[0m         \u001b[38;5;124mf\u001b[39m\u001b[38;5;124m\"\u001b[39m\u001b[38;5;124mIPython won\u001b[39m\u001b[38;5;124m'\u001b[39m\u001b[38;5;124mt let you open fd=\u001b[39m\u001b[38;5;132;01m{\u001b[39;00mfile\u001b[38;5;132;01m}\u001b[39;00m\u001b[38;5;124m by default \u001b[39m\u001b[38;5;124m\"\u001b[39m\n\u001b[0;32m    320\u001b[0m         \u001b[38;5;124m\"\u001b[39m\u001b[38;5;124mas it is likely to crash IPython. If you know what you are doing, \u001b[39m\u001b[38;5;124m\"\u001b[39m\n\u001b[0;32m    321\u001b[0m         \u001b[38;5;124m\"\u001b[39m\u001b[38;5;124myou can use builtins\u001b[39m\u001b[38;5;124m'\u001b[39m\u001b[38;5;124m open.\u001b[39m\u001b[38;5;124m\"\u001b[39m\n\u001b[0;32m    322\u001b[0m     )\n\u001b[1;32m--> 324\u001b[0m \u001b[38;5;28;01mreturn\u001b[39;00m \u001b[43mio_open\u001b[49m\u001b[43m(\u001b[49m\u001b[43mfile\u001b[49m\u001b[43m,\u001b[49m\u001b[43m \u001b[49m\u001b[38;5;241;43m*\u001b[39;49m\u001b[43margs\u001b[49m\u001b[43m,\u001b[49m\u001b[43m \u001b[49m\u001b[38;5;241;43m*\u001b[39;49m\u001b[38;5;241;43m*\u001b[39;49m\u001b[43mkwargs\u001b[49m\u001b[43m)\u001b[49m\n",
      "\u001b[1;31mFileNotFoundError\u001b[0m: [Errno 2] No such file or directory: 'Response.json'"
     ]
    }
   ],
   "source": [
    "with open('./Response.json','r') as f:\n",
    "    RESPONSE_JSON = json.load(f)"
   ]
  },
  {
   "cell_type": "code",
   "execution_count": null,
   "metadata": {},
   "outputs": [],
   "source": []
  }
 ],
 "metadata": {
  "kernelspec": {
   "display_name": "Python 3",
   "language": "python",
   "name": "python3"
  },
  "language_info": {
   "codemirror_mode": {
    "name": "ipython",
    "version": 3
   },
   "file_extension": ".py",
   "mimetype": "text/x-python",
   "name": "python",
   "nbconvert_exporter": "python",
   "pygments_lexer": "ipython3",
   "version": "3.11.9"
  }
 },
 "nbformat": 4,
 "nbformat_minor": 2
}
